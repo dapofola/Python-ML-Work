{
 "cells": [
  {
   "cell_type": "markdown",
   "metadata": {},
   "source": [
    "# Grade: /100 points\n",
    "\n",
    "# Assignment 01: Supervised learning, Linear models, and Loss functions\n",
    "\n",
    "In this assignment, you're going to write your own methods to fit a linear model using either an OLS or LAD cost function.  \n",
    "\n",
    "## Data set \n",
    "\n",
    "For this assignment, we will examine some data representing possums in Australia and New Guinea. The data frame contains 46 observations on the following 6 variables:\n",
    "\n",
    "* sex: Sex, either m (male) or f (female).\n",
    "* age: Age in years.\n",
    "* headL: Head length, in mm.\n",
    "* skullW: Skull width, in mm.\n",
    "* totalL: Total length, in cm.\n",
    "* tailL: Tail length, in cm.\n",
    "\n",
    "## Follow These Steps Before Submitting\n",
    "Once you are finished, ensure to complete the following steps.\n",
    "\n",
    "1.  Restart your kernel by clicking 'Kernel' > 'Restart & Run All'.\n",
    "\n",
    "2.  Fix any errors which result from this.\n",
    "\n",
    "3.  Repeat steps 1. and 2. until your notebook runs without errors.\n",
    "\n",
    "4.  Submit your completed notebook to OWL by the deadline.\n",
    "\n",
    "\n",
    "## Preliminaries"
   ]
  },
  {
   "cell_type": "code",
   "execution_count": 1,
   "metadata": {},
   "outputs": [],
   "source": [
    "# Import all the necessary packages: \n",
    "import matplotlib.pyplot as plt \n",
    "import numpy as np\n",
    "import pandas as pd\n",
    "import scipy.stats as ss \n",
    "import scipy.optimize as so\n",
    "from sklearn import linear_model\n",
    "\n",
    "%matplotlib inline"
   ]
  },
  {
   "cell_type": "markdown",
   "metadata": {},
   "source": [
    "\n",
    "## Part 1\n",
    "### Question 1.1:  /10 points\n",
    "\n",
    "\n",
    "Read in the `possum.csv` file as a `pandas.DataFrame`.  Investigate the relationship between the possum's age and its tail length by plotting a scatter plot of the `age` and `tailL` columns. Add an `alpha` in case some data are overlapping. "
   ]
  },
  {
   "cell_type": "code",
   "execution_count": 2,
   "metadata": {},
   "outputs": [
    {
     "name": "stderr",
     "output_type": "stream",
     "text": [
      "<ipython-input-2-ff44cde3eddf>:6: MatplotlibDeprecationWarning: Adding an axes using the same arguments as a previous axes currently reuses the earlier instance.  In a future version, a new instance will always be created and returned.  Meanwhile, this warning can be suppressed, and the future behavior ensured, by passing a unique label to each axes instance.\n",
      "  ax = plt.axes()\n"
     ]
    },
    {
     "data": {
      "image/png": "[encoded data removed]",
      "text/plain": [
       "<Figure size 432x288 with 1 Axes>"
      ]
     },
     "metadata": {
      "needs_background": "light"
     },
     "output_type": "display_data"
    }
   ],
   "source": [
    "# Read in the data with pandas\n",
    "possum_data = pd.read_csv(\"possum.csv\")\n",
    "\n",
    "# Make the scatter plot (don't forget the axis labels)\n",
    "plt.scatter(possum_data[\"age\"], possum_data[\"tailL\"], alpha=0.75)\n",
    "ax = plt.axes()\n",
    "ax.set_xlabel(\"Age\")\n",
    "ax.set_ylabel(\"Tail Length\")\n",
    "plt.show()"
   ]
  },
  {
   "cell_type": "markdown",
   "metadata": {},
   "source": [
    "### Question 1.2: /5 point\n",
    "\n",
    "Recall that the linear model, we obtain predictions by computing \n",
    "\n",
    "$$ \\hat{\\mathbf{y}} = \\mathbf{X} \\beta $$\n",
    "\n",
    "Here, $\\mathbf{X}$ is a design matrix which includes a column of ones, $\\beta$ are coefficients, and $\\mathbf{y}$ are outcomes.  Write a function `linearModelPredict` to compute linear model predictions given data and a coefficient vector.  The function should take as it's arguments a 1d-array of coefficients `b` and the design matrix `X` as a 2d-array and return linear model predictions `yp`.\n",
    "\n",
    "Test the function by setting \n",
    "\n",
    "```\n",
    "X = np.array([[1,0],[1,-1],[1,2]])\n",
    "b = np.array([0.1,0.3])\n",
    "```\n",
    "and call your function with these values! \n",
    "\n",
    "Report $\\hat{\\mathbf{y}}$. \n",
    "What is the dimensionality of the numpy-array that you get back? \n",
    "\n",
    "Hint:  Read the documentation for `np.dot` or the `@` operator in `numpy`."
   ]
  },
  {
   "cell_type": "code",
   "execution_count": 3,
   "metadata": {},
   "outputs": [
    {
     "name": "stdout",
     "output_type": "stream",
     "text": [
      "y_hat: [ 0.1 -0.2  0.7]\n"
     ]
    },
    {
     "data": {
      "text/plain": [
       "'Written answer: the dimensionality of y_hat is a vector in R^3. If b is a 2d array, then y_hat would be a 2d array.'"
      ]
     },
     "execution_count": 3,
     "metadata": {},
     "output_type": "execute_result"
    }
   ],
   "source": [
    "# Function\n",
    "def linearModelPredict(b,X):\n",
    "    yp = np.dot(X,b)\n",
    "    return yp\n",
    "\n",
    "# Testing the function\n",
    "X = np.array([[1,0],[1,-1],[1,2]])\n",
    "b = np.array([0.1,0.3])\n",
    "y_hat = linearModelPredict(b,X)\n",
    "\n",
    "#Output value\n",
    "print(\"y_hat:\",y_hat)\n",
    "\n",
    "# Always important: Test the new function you have written! \n",
    "\n",
    "# By the way: What happens when b is a 2d-array? \n",
    "\n",
    "'''Written answer: the dimensionality of y_hat is a vector in R^3. If b is a 2d array, then y_hat would be a 2d array.'''\n"
   ]
  },
  {
   "cell_type": "markdown",
   "metadata": {},
   "source": [
    "### Question 1.3: /15 points\n",
    "\n",
    "Write a function `linearModelLossRSS` which computes and returns the loss function for an OLS model parameterized by $\\beta$, as well as the gradient of the loss.  The function should take as its first argument a 1d-array `beta` of coefficients for the linear model, as its second argument the design matrix `X` as a 2d-array, and as its third argument a 1d-array `y` of observed outcomes.\n",
    "\n",
    "Test the function with the values \n",
    "\n",
    "```\n",
    "X = np.array([[1,0],[1,-1],[1,2]])\n",
    "b = np.array([0.1,0.3])\n",
    "y = np.array([0,0.4,2]) \n",
    "```\n",
    "\n",
    "Report RSS and gradient. \n",
    "Written answer: To minimize the cost do you need increase or decrease the value of the parameters? "
   ]
  },
  {
   "cell_type": "code",
   "execution_count": 4,
   "metadata": {},
   "outputs": [
    {
     "name": "stdout",
     "output_type": "stream",
     "text": [
      "RSS: 2.06, gradient: [-3.6 -4. ]\n"
     ]
    },
    {
     "data": {
      "text/plain": [
       "'Written: In order to minimize the cost you need to increase the value of the parameters. That is because the gradient value (derivative) is negative.'"
      ]
     },
     "execution_count": 4,
     "metadata": {},
     "output_type": "execute_result"
    }
   ],
   "source": [
    "# Function\n",
    "def linearModelLossRSS(b,X,y):\n",
    "    # Getting predictions\n",
    "    yp = linearModelPredict(b, X)\n",
    "    \n",
    "    # Getting residuals and RSS value\n",
    "    res = y-yp\n",
    "    rss = np.sum(res * res)\n",
    "    \n",
    "    # Getting gradient\n",
    "    gradient = -2 * np.transpose(X).dot(res)\n",
    "    return (rss, gradient)\n",
    "\n",
    "# Testing Function\n",
    "X = np.array([[1,0],[1,-1],[1,2]])\n",
    "b = np.array([0.1,0.3])\n",
    "y = np.array([0,0.4,2])\n",
    "(rss, gradient) = linearModelLossRSS(b,X,y)\n",
    "\n",
    "# Reporting on RSS and gradient\n",
    "print(\"RSS: {}, gradient: {}\".format(rss, gradient))\n",
    "\n",
    "'''Written: In order to minimize the cost you need to increase the value of the parameters. That is because the gradient value (derivative) is negative.'''\n",
    "    "
   ]
  },
  {
   "cell_type": "markdown",
   "metadata": {},
   "source": [
    "### Question 1.4:  /15 points. \n",
    "\n",
    "Now that you've implemented a loss function in question 3, it is now time to minimize it!\n",
    "\n",
    "Write a function `linearModelFit` to fit a linear model.  The function should take as its first argument the design matrix `X` as a 2d-array, as its second argument a 1d-array `y` of outcomes, and as its third argument a function  `lossfcn` which returns as a tuple the value of the loss, as well as the gradient of the loss. As a result, it should return the estimated betas and the R2. \n",
    "\n",
    "Test the function with the values: \n",
    "```\n",
    "X = np.array([[1,0],[1,-1],[1,2]])\n",
    "b = np.array([0.1,0.3])\n",
    "y = np.array([0,0.4,2]) \n",
    "```\n",
    "\n",
    "Report best parameters and the fitted R2. \n"
   ]
  },
  {
   "cell_type": "code",
   "execution_count": 5,
   "metadata": {},
   "outputs": [
    {
     "name": "stdout",
     "output_type": "stream",
     "text": [
      "Best parameters: [0.6 0.6], r squared: 0.75\n"
     ]
    }
   ],
   "source": [
    "# Function\n",
    "def linearModelFit(X, y, lossfcn):\n",
    "    # Initializing the beta values and running the minimize function\n",
    "    b = np.array([0.1,0.3])\n",
    "    result = so.minimize(lossfcn, b, args=(X, y), jac=True) \n",
    "    betas = result.x\n",
    "    \n",
    "    # Calculating the total sum of squares\n",
    "    tss = y-np.mean(y)\n",
    "    tss = tss * tss\n",
    "    tss = np.sum(tss)\n",
    "    \n",
    "    # Calculating the residual sum of squares\n",
    "    y_hat = linearModelPredict(betas, X)\n",
    "    res = y - y_hat\n",
    "    rss = np.sum(res * res)\n",
    "    \n",
    "    # Using TSS and RSS to calculate r^2\n",
    "    r_2 = 1-(rss)/(tss)\n",
    "    \n",
    "    # Reporting on betas and r^2\n",
    "    return(betas, r_2)\n",
    "\n",
    "# Running the code on our test values\n",
    "X = np.array([[1,0],[1,-1],[1,2]])\n",
    "y = np.array([0,0.4,2]) \n",
    "(betas, r_2) = linearModelFit(X,y,linearModelLossRSS)\n",
    "\n",
    "# Reporting on the best parameters and r squared value returned.\n",
    "print(\"Best parameters: {}, r squared: {}\".format(betas, r_2))"
   ]
  },
  {
   "cell_type": "markdown",
   "metadata": {},
   "source": [
    "### Question 1.5: /15 points\n",
    "\n",
    "Use the above functions to fit your model to the possum data. Then use your model and the fitted parameters to make predictions along a grid of equally spaced possum ages.  \n",
    "\n",
    "Plot the data and add a line for the predicted values. You can get these by generating a new X-matrix with equally space ages (using for example np.linspace). Also report the R2 value for the fit. \n",
    "\n"
   ]
  },
  {
   "cell_type": "code",
   "execution_count": 6,
   "metadata": {},
   "outputs": [
    {
     "name": "stderr",
     "output_type": "stream",
     "text": [
      "<ipython-input-6-b18792c2e453>:17: MatplotlibDeprecationWarning: Adding an axes using the same arguments as a previous axes currently reuses the earlier instance.  In a future version, a new instance will always be created and returned.  Meanwhile, this warning can be suppressed, and the future behavior ensured, by passing a unique label to each axes instance.\n",
      "  ax = plt.axes()\n"
     ]
    },
    {
     "data": {
      "image/png": "[encoded data removed]",
      "text/plain": [
       "<Figure size 432x288 with 1 Axes>"
      ]
     },
     "metadata": {
      "needs_background": "light"
     },
     "output_type": "display_data"
    }
   ],
   "source": [
    "# Retrieving the tail length data and creating a design matrix for age\n",
    "y = possum_data['tailL']\n",
    "X = np.c_[np.repeat(1, len(y)), possum_data['age']]\n",
    "\n",
    "# Retrieving the parameters and r^2\n",
    "(betas, r_2) = linearModelFit(X, y, linearModelLossRSS)\n",
    "\n",
    "# Plotting the possum data from the csv\n",
    "plt.scatter(possum_data[\"age\"], possum_data[\"tailL\"], alpha=0.75)\n",
    "\n",
    "# Creating a design matrix with equally spaced ages, using calculated parameters to predict the output\n",
    "X = np.c_[np.repeat(1, 9), np.array([1,2,3,4,5,6,7,8,9])]\n",
    "y_hat = linearModelPredict(betas, X)\n",
    "\n",
    "# Plotting a line of predicted values, decorating plot\n",
    "plt.plot(np.arange(1,10), y_hat)\n",
    "ax = plt.axes()\n",
    "ax.set_xlabel(\"Age\")\n",
    "ax.set_ylabel(\"Tail Length\")\n",
    "ax.set_title(\"R-squared: {}\".format(r_2))\n",
    "plt.show()\n",
    "\n"
   ]
  },
  {
   "cell_type": "markdown",
   "metadata": {},
   "source": [
    "## Part 2: LAD Regression\n",
    "\n",
    "### Question 2.1:  /15 points\n",
    "\n",
    "In the previous section, we worked with the squared loss.  Now, we'll implement a linear model with least absolute deviation loss.\n",
    "\n",
    "Write a function `linearModelLossLAD` which computes the least absolute deviation loss function for a linear model  parameterized by $\\beta$, as well as the gradient of the loss.  The function should take as its first argument a 1d-array `beta` of coefficients for the linear model, as its second argument the design matrix `X` as a 2d-array, and as its third argument a 1d-array `y` of observed outcomes.\n",
    "\n",
    "Test the function with the values \n",
    "\n",
    "```\n",
    "X = np.array([[1,0],[1,-1],[1,2]])\n",
    "b = np.array([0.1,0.3])\n",
    "y = np.array([0,0.4,2]) \n",
    "```\n",
    "\n",
    "Report RSS and gradient. "
   ]
  },
  {
   "cell_type": "code",
   "execution_count": 7,
   "metadata": {},
   "outputs": [
    {
     "name": "stdout",
     "output_type": "stream",
     "text": [
      "LAD: 2.0, gradient: [-1. -1.]\n"
     ]
    }
   ],
   "source": [
    "# Function\n",
    "def linearModelLossLAD(b,X,y):\n",
    "    # Getting predicted y value, calculating residuals\n",
    "    yp = linearModelPredict(b, X)\n",
    "    res = y-yp\n",
    "    sres = np.sign(res)\n",
    "    \n",
    "    # Using residual value to calculate LAD and gradient; returning LAD and gradient\n",
    "    lad = np.sum(np.abs(res))\n",
    "    gradient = -(np.dot(sres,X))\n",
    "    return (lad, gradient)\n",
    "\n",
    "X = np.array([[1,0],[1,-1],[1,2]])\n",
    "b = np.array([0.1,0.3])\n",
    "y = np.array([0,0.4,2])\n",
    "(lad, gradient) = linearModelLossLAD(b,X,y)\n",
    "print(\"LAD: {}, gradient: {}\".format(lad, gradient))"
   ]
  },
  {
   "cell_type": "markdown",
   "metadata": {},
   "source": [
    "### Question 2.2: /10 points\n",
    "\n",
    "\n",
    "Use the above functions to fit your LAD model. Use your model to make predictions along a grid of equally spaced possum ages.  Once fit, the code below will plot the fit.  The code will also print the R squared value on the plot.\n",
    "\n",
    "Written answer: What is the difference in the fit obtained with an L1 as compared to the L2 cost function? Which one has a higher R2 value? Why?  \n",
    "\n",
    "Note: If you recieve an error from the optimizer, it may be because the loss function for the LAD model is not differentiable at its minimum.  This will lead to some gradient based optimiers to fail to converge.  If this happens to you then pass `method=\"Powell\"` to `scipy.optimize.minimize`.\n",
    "\n"
   ]
  },
  {
   "cell_type": "code",
   "execution_count": 8,
   "metadata": {},
   "outputs": [
    {
     "name": "stderr",
     "output_type": "stream",
     "text": [
      "<ipython-input-8-68510025d3e8>:17: MatplotlibDeprecationWarning: Adding an axes using the same arguments as a previous axes currently reuses the earlier instance.  In a future version, a new instance will always be created and returned.  Meanwhile, this warning can be suppressed, and the future behavior ensured, by passing a unique label to each axes instance.\n",
      "  ax = plt.axes()\n"
     ]
    },
    {
     "data": {
      "image/png": "[encoded data removed]",
      "text/plain": [
       "<Figure size 432x288 with 1 Axes>"
      ]
     },
     "metadata": {
      "needs_background": "light"
     },
     "output_type": "display_data"
    },
    {
     "data": {
      "text/plain": [
       "' Written answer: The fit obtained with the L1 is about minimizing the total absolute difference between each point and the fitted line. L2 is about minimizing the sum of squares  of difference. This means L2 is more focused on having fewer major outliers whereas L1 is about a more consistent closeness to the fit line. L2 Cost of course has the higher R2 because R2 is based on sum of squares, which is what L2 optimizes for.'"
      ]
     },
     "execution_count": 8,
     "metadata": {},
     "output_type": "execute_result"
    }
   ],
   "source": [
    "# Retrieving the tail length data and creating a design matrix for age\n",
    "y = possum_data[\"tailL\"]\n",
    "X = np.c_[np.repeat(1, len(y)), possum_data[\"age\"]]\n",
    "\n",
    "# Plotting the possum data from the csv\n",
    "plt.scatter(possum_data[\"age\"], possum_data[\"tailL\"], alpha = 0.75)\n",
    "\n",
    "# Retrieving parameters and r^2\n",
    "(betas, r_2) = linearModelFit(X, y, linearModelLossLAD)\n",
    "\n",
    "# Creating a design matrix with equally spaced ages, using calculated parameters to predict the output\n",
    "X = np.c_[np.repeat(1, 9), np.array([1,2,3,4,5,6,7,8,9])]\n",
    "y_hat = np.dot(X, betas)\n",
    "\n",
    "# Plotting a line of predicted values and decorating the plot\n",
    "plt.plot(np.arange(1,10), y_hat)\n",
    "ax = plt.axes()\n",
    "ax.set_xlabel(\"Age\")\n",
    "ax.set_ylabel(\"Tail Length\")\n",
    "ax.set_title(\"R-squared: {}\".format(r_2))\n",
    "plt.show()\n",
    "\n",
    "''' Written answer: The fit obtained with the L1 is about minimizing the total absolute difference between each point and the fitted line. L2 is about minimizing the sum of squares  of difference. This means L2 is more focused on having fewer major outliers whereas L1 is about a more consistent closeness to the fit line. L2 Cost of course has the higher R2 because R2 is based on sum of squares, which is what L2 optimizes for.'''"
   ]
  },
  {
   "cell_type": "markdown",
   "metadata": {},
   "source": [
    "### Question 2.3: /15 points\n",
    "\n",
    "Fit an OLS model with the `linear_model` module from the `sklearn` package by using the `LinearRegression` class.  In no more than two sentences, comment on the rsquared values from `sklearn` and the rsquared values from your models. Are they similar?"
   ]
  },
  {
   "cell_type": "code",
   "execution_count": 9,
   "metadata": {},
   "outputs": [
    {
     "name": "stdout",
     "output_type": "stream",
     "text": [
      "r squared: 0.22286587947604108\n"
     ]
    },
    {
     "data": {
      "text/plain": [
       "'Written answer: The R2 value obtained from sklearn closely matches what I received in my RSS model, but different than what I received in my LAD model. This makes sense because RSS is the cost function used by the OLS method.'"
      ]
     },
     "execution_count": 9,
     "metadata": {},
     "output_type": "execute_result"
    }
   ],
   "source": [
    "# Retrieving the tail length data and creating a design matrix for age\n",
    "y = possum_data[\"tailL\"]\n",
    "X = np.c_[np.repeat(1, len(y)), possum_data[\"age\"]]\n",
    "\n",
    "# Creating a regression object from sklearn, fitting it, and reporting the r squared value received.\n",
    "reg = linear_model.LinearRegression()\n",
    "reg.fit(X, y)\n",
    "print(\"r squared:\",reg.score(X, y))\n",
    "\n",
    "'''Written answer: The R2 value obtained from sklearn closely matches what I received in my RSS model, but different than what I received in my LAD model. This makes sense because RSS is the cost function used by the OLS method.'''"
   ]
  },
  {
   "cell_type": "code",
   "execution_count": null,
   "metadata": {},
   "outputs": [],
   "source": []
  }
 ],
 "metadata": {
  "kernelspec": {
   "display_name": "Python 3",
   "language": "python",
   "name": "python3"
  },
  "language_info": {
   "codemirror_mode": {
    "name": "ipython",
    "version": 3
   },
   "file_extension": ".py",
   "mimetype": "text/x-python",
   "name": "python",
   "nbconvert_exporter": "python",
   "pygments_lexer": "ipython3",
   "version": "3.8.3"
  }
 },
 "nbformat": 4,
 "nbformat_minor": 4
}
