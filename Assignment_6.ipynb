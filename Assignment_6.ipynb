{
 "cells": [
  {
   "cell_type": "markdown",
   "metadata": {},
   "source": [
    "# Grade: /100 pts\n",
    "\n",
    "# Assignment 06: Regularization"
   ]
  },
  {
   "cell_type": "code",
   "execution_count": 1,
   "metadata": {},
   "outputs": [],
   "source": [
    "import pandas as pd\n",
    "import numpy as np\n",
    "import matplotlib.pyplot as plt\n",
    "import seaborn as sns\n",
    "import sklearn as sk\n",
    "from sklearn.model_selection import train_test_split, cross_val_score, GridSearchCV\n",
    "from sklearn.linear_model import Ridge, LinearRegression\n",
    "from sklearn.pipeline import Pipeline\n",
    "from sklearn.preprocessing import StandardScaler, PolynomialFeatures\n",
    "from sklearn.metrics import mean_squared_error\n",
    "from sklearn.compose import ColumnTransformer\n",
    "from sklearn.base import BaseEstimator, TransformerMixin\n",
    "from scipy.stats import t\n",
    "\n",
    "\n",
    "pd.set_option('display.max_columns', 500)\n",
    "\n",
    "%matplotlib inline"
   ]
  },
  {
   "cell_type": "markdown",
   "metadata": {},
   "source": [
    "### Question 1: Preprocessing (5 pts)\n",
    "**Make sure to only use the imports included in the first cell. Any additional imports used will result in 0.** <br>\n",
    "Tasks:\n",
    "* Load the data present in 'footballer_small.csv' using the pandas library and store the loaded data in a dataframe\n",
    "* Drop the variables: 'ID','club','club_logo','flag', 'nationality','photo','potential', 'birth_date'\n",
    "* Dummy code the variables: work_rate_att, work_rate_def, preferred_foot. **Because we are running a regularized model, we do not want to drop the first column**\n",
    "* Get a test data set of size 500 - to make results comparable to solutions, set random_state = 0 <br>"
   ]
  },
  {
   "cell_type": "code",
   "execution_count": 2,
   "metadata": {},
   "outputs": [],
   "source": [
    "# Loading data, dropping unnecessary variables, dummy coding categorical variables.\n",
    "model_data = pd.read_csv(\"footballer_small.csv\")\n",
    "model_data = model_data.drop(columns=['ID', 'club', 'club_logo', 'flag', 'nationality', 'photo', 'potential', 'birth_date'])\n",
    "model_data = pd.get_dummies(model_data, drop_first=False)\n",
    "\n",
    "# Getting predictor and outcome variables, splitting into train and test.\n",
    "X = model_data.drop(columns=\"overall\")\n",
    "y = model_data.overall\n",
    "Xtrain, Xtest, ytrain, ytest = train_test_split(X,y, test_size = 500, random_state = 0)"
   ]
  },
  {
   "cell_type": "markdown",
   "metadata": {},
   "source": [
    "## Question 2: Building the pipeline that preprocesses the data (10 pts)\n",
    "In order to properly build the regression model, the features need to be standardized so that no feature can dominate others in determining the prediction values due to differences in feature scales. Build the pipeline that preprocesses the feature columns of the training data and create a linear regression model. Plot the data before and after the standardization for the stamina feature. <br>\n",
    "In this question, there is no need to overwrite the training set's values. Create a new variable to include the standardized data. The original training data is needed for future exercises. <br>\n",
    "### Question\n",
    "Make observations about the plot.  "
   ]
  },
  {
   "cell_type": "code",
   "execution_count": 3,
   "metadata": {},
   "outputs": [
    {
     "data": {
      "text/plain": [
       "\"Written answer: the plots appear to have the same distribution shape (minus some difference because of different bins for each plot), however the standardized plot is centred around 0 with a stdev of 1, whereas the unstandardized one is centred around the mean of stamina with a stdev of stamina's stdev.\""
      ]
     },
     "execution_count": 3,
     "metadata": {},
     "output_type": "execute_result"
    },
    {
     "data": {
      "image/png": "[encoded data removed]",
      "text/plain": [
       "<Figure size 432x288 with 2 Axes>"
      ]
     },
     "metadata": {
      "needs_background": "light"
     },
     "output_type": "display_data"
    }
   ],
   "source": [
    "# Creating a class for the standardizer transformer.\n",
    "class Standardizer(BaseEstimator, TransformerMixin):\n",
    "    def fit(self, X, y=None):\n",
    "        return self\n",
    "    \n",
    "    def transform(self, X, y=None):\n",
    "        # Getting categorical variables, getting list of all non-categorical variables in this particular instance.\n",
    "        # Note this is generalizable to inputs missing certain variables (question 4)\n",
    "        categorical_variables = ['work_rate_att','work_rate_def','preferred_foot']\n",
    "        model_continuous_vars = [column for column in X.columns if all(cat_var not in column for cat_var in categorical_variables)]\n",
    "        \n",
    "        # Standardizing all non-categorical variables, returning transformed data frame.\n",
    "        standardization_steps=[('scaler', StandardScaler(), model_continuous_vars)]\n",
    "        ct = ColumnTransformer(standardization_steps, remainder='passthrough')\n",
    "        X = ct.fit_transform(X)\n",
    "        return X\n",
    "\n",
    "# Creating a column transformer to standardize non-categorical variables.\n",
    "standardization_steps=[('scaler', Standardizer(), X.columns.tolist())]\n",
    "ct = ColumnTransformer(standardization_steps)\n",
    "standardized = ct.fit_transform(Xtrain)\n",
    "\n",
    "# Turning standardized output into a data frame so that its columns are accessible.\n",
    "standardized = pd.DataFrame(standardized, columns = X.columns.tolist())\n",
    "\n",
    "# Creating a pipeline that standardizes non-categorical variables and runs a linear regression.\n",
    "steps = [('scaler', ct), ('linear_regression', LinearRegression())]\n",
    "pipe = Pipeline(steps)\n",
    "\n",
    "# Plotting distributions of standardized & non-standardized stamina values\n",
    "fig, (ax1, ax2) = plt.subplots(1,2)\n",
    "ax1.hist(X.stamina, alpha=0.5, label='unstandardized', color='black')\n",
    "ax1.legend()\n",
    "ax2.hist(standardized.stamina, alpha=0.5, label='standardized')\n",
    "ax2.legend()\n",
    "\n",
    "'''Written answer: the plots appear to have the same distribution shape (minus some difference because of different bins for each plot), however the standardized plot is centred around 0 with a stdev of 1, whereas the unstandardized one is centred around the mean of stamina with a stdev of stamina\\'s stdev.'''"
   ]
  },
  {
   "cell_type": "markdown",
   "metadata": {},
   "source": [
    "## Question 3: Creating a Complex feature model using 2-nd Polynomial features (10 pts)\n",
    "In this task, the training data consists of the quadratic terms and 2-way interactions of all features except one of standing_tackle, composure, and marking variable. <br> \n",
    "Create <b> four </b> different training sets:\n",
    "* The first training set includes the quadratic terms and 2-way interactions of all the features. \n",
    "* The second/third/fourth training sets include all the features, their quadratic terms, and their 2-way interactions except the standing_tackle/composure/marking features. <br>\n",
    "\n",
    "#### Hint: \n",
    "For the 2nd/3rd and 4th training sets, create the training sets without the aforementioned features and then apply polynomial expansion to the resultant sets. \n",
    "### Questions:\n",
    "* How many linear terms are in each of the new feature set?\n",
    "        In the feature set including all variables, there are 48 linear features--one for each feature.\n",
    "        In the feature sets missing one variable, there are 47 linear variables for the same reason.\n",
    "* How many squared terms are in each of the new feature set?\n",
    "        In the feature set including all variables, there are 48 quadratic features--one for each feature.\n",
    "        In the feature sets missing one variable, there are 47 linear variables for the same reason.\n",
    "* How many interaction terms are in each of the new feature set? Give an example of one of the interaction terms. \n",
    "        There are nC2=n(n-1)/2 interaction terms in each feature set, given that there is an interaction set for each possible pair. For the set including all variables that is 48(47)/2 = 1128. \n",
    "        For the sets missing one variable each, that is 47(46)/2 = 1081."
   ]
  },
  {
   "cell_type": "code",
   "execution_count": 4,
   "metadata": {},
   "outputs": [
    {
     "name": "stdout",
     "output_type": "stream",
     "text": [
      "(2500, 1224)\n",
      "(2500, 1175)\n",
      "(2500, 1175)\n",
      "(2500, 1175)\n"
     ]
    }
   ],
   "source": [
    "# Creating a polynomial expander.\n",
    "PT = PolynomialFeatures(degree = 2, include_bias=False)\n",
    "\n",
    "# Getting column names for each of the outputs\n",
    "cols = [None, 'standing_tackle', 'composure', 'marking']\n",
    "quad_train = []\n",
    "n_sets = 4\n",
    "\n",
    "for i in range(n_sets):\n",
    "    dropped = cols[i]\n",
    "    # Dropping column if necessary, creating data frame with polynomially expanded values and column titles.\n",
    "    # Note: These are unstandardized values, as the question did not ask for standardized values.\n",
    "    if dropped == None:\n",
    "        feature_names = PT.fit(Xtrain).get_feature_names(Xtrain.columns.tolist())\n",
    "        quad_train.append(pd.DataFrame(PT.fit_transform(Xtrain), columns=feature_names))\n",
    "    else:\n",
    "        valid_data = Xtrain.drop(columns=cols[i])\n",
    "        feature_names = PT.fit(valid_data).get_feature_names(valid_data.columns.tolist())\n",
    "        quad_train.append(pd.DataFrame(PT.fit_transform(valid_data), columns=feature_names))\n",
    "    \n",
    "for training in quad_train:\n",
    "    print(training.shape)"
   ]
  },
  {
   "cell_type": "markdown",
   "metadata": {},
   "source": [
    "## Question 4: Evaluating the backward feature search (15 pts)\n",
    "In this question, you have to use the pipeline created in question 2 and apply it to each of the training sets created in question 3. Use 10-fold cross validation to report the validation error on the training set using mean squared error as the metric. <br>\n",
    "Show all the steps of the process and compare and analyze the results using the validation error reported. "
   ]
  },
  {
   "cell_type": "code",
   "execution_count": 5,
   "metadata": {},
   "outputs": [
    {
     "name": "stdout",
     "output_type": "stream",
     "text": [
      "[3.995927659800491, 3.693540317823291, 3.7473344578754904, 3.5986165091853826]\n"
     ]
    }
   ],
   "source": [
    "quad_model = []\n",
    "\n",
    "# Creating a new pipeline that polynomially expands values after standardization.\n",
    "# Note: This is a new pipeline because standardization after polynomial expansion is not possible because of column name inconsistencies.\n",
    "quad_pipe =Pipeline([('scaler', Standardizer()), ('poly', PT),('linear_regression', LinearRegression())])\n",
    "\n",
    "for i in range(n_sets):\n",
    "    # Getting the training set of values with necessary columns dropped.\n",
    "    if(i==0):\n",
    "        train = Xtrain\n",
    "    else:\n",
    "        train = Xtrain.drop(columns=cols[i])\n",
    "    quad_train[i] = train\n",
    "    \n",
    "    # Fitting the training set to the pipe that polynomially expands the standardized values. Saving the model.\n",
    "    model = quad_pipe.fit(train, ytrain)\n",
    "    quad_model.append(model)\n",
    "    \n",
    "quad_cv_score = []\n",
    "for i in range(n_sets):\n",
    "    # Calculating the CV score for each model and training set.\n",
    "    cv_score = cross_val_score(quad_model[i], quad_train[i], ytrain, cv=10, scoring='neg_mean_squared_error')\n",
    "    quad_cv_score.append(-cv_score.mean())\n",
    "print(quad_cv_score)"
   ]
  },
  {
   "cell_type": "markdown",
   "metadata": {},
   "source": [
    "## Question 5: Applying Ridge Regression (10 pts)\n",
    "Build a pipeline that performs scaling and fits the ridge regression on the data that includes the polynomial expansion of all the features. The penalization parameter is set to 0.5. Use the pipeline to report the validation error using mean square error metric. Use 10-fold cross validation. "
   ]
  },
  {
   "cell_type": "code",
   "execution_count": 6,
   "metadata": {},
   "outputs": [
    {
     "name": "stdout",
     "output_type": "stream",
     "text": [
      "2.785777156075923\n"
     ]
    }
   ],
   "source": [
    "# Creating a pipeline that standardizes, polynomially expands the standardized value, then applies ridge regression with alpha=0.5\n",
    "ridge_steps = [('scaler', Standardizer()), ('poly', PT), ('ridge_regression', Ridge(alpha=0.5))]\n",
    "ridge_pipe = Pipeline(ridge_steps)\n",
    "\n",
    "# Fitting the pipeline to the polynomial expansion of all the features (i.e on the complete training data). Reporting CV score\n",
    "ridge_model = ridge_pipe.fit(Xtrain, ytrain)\n",
    "ridge_cv_score = - cross_val_score(ridge_model, Xtrain, ytrain, cv=10, scoring = 'neg_mean_squared_error').mean()\n",
    "print(ridge_cv_score)"
   ]
  },
  {
   "cell_type": "markdown",
   "metadata": {},
   "source": [
    "## Question 6: Tune the Ridge coefficient for the 2nd-order model   (15 pts)\n",
    "Now use 10-fold CV on the training set to determine a good setting for the regularization coefficient. Perform the search going from $\\lambda = \\exp(-8), \\cdots, \\exp(6)$ in 15 evenly spaced increments on the log scale. Plot the mean squared error as a function of $\\log(\\lambda)$. \n",
    "\n",
    "### Questions: \n",
    "\n",
    "What is the best regularization parameter (actual not approximate)? \n",
    "* The best regularization parameter is $e^{5}$.\n",
    "\n",
    "Why does the error increase as $\\lambda \\rightarrow 0?$  Why does the error increase when $\\lambda \\rightarrow \\infty$?  Answer in terms of the bias variance trade off.\n",
    "* As $\\lambda$ approaches 0, there is no regularization and the coefficients can grow unconstrained. As a result there is a possibility these coefficients will lead to overfitting, and lead to a large variance in the data.\n",
    "* As $\\lambda$ approaches $\\infty$, all of the coefficients will approach 0, leading to a poor class of function retrieved, which is not well fit to the training data, thus possessing a high bias."
   ]
  },
  {
   "cell_type": "code",
   "execution_count": 7,
   "metadata": {},
   "outputs": [
    {
     "data": {
      "text/plain": [
       "<matplotlib.collections.PathCollection at 0x7f9d67f5e610>"
      ]
     },
     "execution_count": 7,
     "metadata": {},
     "output_type": "execute_result"
    },
    {
     "data": {
      "image/png": "[encoded data removed]",
      "text/plain": [
       "<Figure size 432x288 with 1 Axes>"
      ]
     },
     "metadata": {
      "needs_background": "light"
     },
     "output_type": "display_data"
    }
   ],
   "source": [
    "lam = np.exp(np.linspace(-8,6,15))\n",
    "mse = np.zeros(len(lam))\n",
    "\n",
    "# Iterating through each different lambda value.\n",
    "for i in range(len(lam)):\n",
    "    # Creating a temporary pipeline that standardizes, polynomially expands, and runs a ridge regression with the current value of lambda.\n",
    "    temp_steps = [('scaler', Standardizer()), ('poly', PT), ('ridge_regression', Ridge(alpha=lam[i]))]\n",
    "    temp_pipe = Pipeline(temp_steps)\n",
    "    temp_model = temp_pipe.fit(Xtrain, ytrain)\n",
    "    \n",
    "    # Recording the scores for each lambda.\n",
    "    cv_scores = cross_val_score(temp_model, Xtrain, ytrain, cv=10, scoring = 'neg_mean_squared_error')\n",
    "    mse[i] = -cv_scores.mean()\n",
    "    \n",
    "# Outputting a scatterplot of lambda values.\n",
    "plt.scatter(np.log(lam), mse)\n"
   ]
  },
  {
   "cell_type": "markdown",
   "metadata": {},
   "source": [
    "### Question 7: Test error  (10 pts)\n",
    "Now test how the ridge model, fitted to the whole training set, performs on the test data set. \n",
    "\n",
    "\n",
    "Report the following:\n",
    "\n",
    "* The mean squared error on the test data - along with the 95% confidence interval, determined with the central limit theorem. \n",
    "* The proportion of the variance explained by your model - along wth a 95% confidence interval."
   ]
  },
  {
   "cell_type": "code",
   "execution_count": 12,
   "metadata": {},
   "outputs": [
    {
     "name": "stdout",
     "output_type": "stream",
     "text": [
      "ERROR\n",
      "Mean: 2.057337635208312, confidence interval: (1.7179112324153898, 2.3967640380012343)\n",
      "\n",
      "R2\n",
      "Mean: 0.9557158624498421, confidence interval: (0.9543464048916879, 0.9570853200079963)\n"
     ]
    }
   ],
   "source": [
    "# Creating a bootstrap function for r2\n",
    "def r2_dist(Xtest, ytest, best_ridge_model, columns, numboot=100):\n",
    "    n = len(Xtest)\n",
    "    r2_vals = np.zeros(numboot)\n",
    "    \n",
    "    # Concatenating training and testing data into one such that the overalls correspond with their inputs. Using a data frame for easy column access/manipulation.\n",
    "    samp = pd.DataFrame(np.c_[Xtest, ytest], columns=columns)\n",
    "    \n",
    "    for i in range(numboot):\n",
    "        # Bootstrapping random samples, calculating r2.\n",
    "        d = samp.sample(n, replace=True)\n",
    "        rsq = best_ridge_model.score(d.drop(columns=\"overall\"), d.overall)\n",
    "        r2_vals[i] = rsq\n",
    "    return r2_vals\n",
    "\n",
    "\n",
    "# Get a ridge model that's fit to the training data with the best alpha.\n",
    "\n",
    "best_ridge_pipeline = Pipeline([('scaler', Standardizer()), ('poly', PT), ('ridge_regression', Ridge(alpha=np.exp(5)))])\n",
    "best_ridge_model = best_ridge_pipeline.fit(Xtrain,ytrain)\n",
    "# Predict and get the errors\n",
    "yp = best_ridge_model.predict(Xtest)\n",
    "squared_errors = (ytest - yp)**2\n",
    "\n",
    "# Calculate MSE and confidence interval distance\n",
    "mse = np.mean(squared_errors)\n",
    "interval_distance = 1.96 * np.std(squared_errors) / np.sqrt(len(squared_errors))\n",
    "\n",
    "# Bootstrapping r2 values. Getting the mean and confidence interval distance.\n",
    "r2_vals = r2_dist(Xtest, ytest, best_ridge_model, X.columns.tolist()+[\"overall\"])\n",
    "rsq = np.mean(r2_vals)\n",
    "r2sqe = np.std(r2_vals)\n",
    "\n",
    "rsq_interval_distance = 1.96 * r2sqe / np.sqrt(len(r2_vals))\n",
    "\n",
    "print(\"ERROR\\nMean: {}, confidence interval: {}\\n\".format(mse, (mse-interval_distance, mse+interval_distance)))\n",
    "print(\"R2\\nMean: {}, confidence interval: {}\".format(rsq, (rsq-rsq_interval_distance, rsq+rsq_interval_distance)))"
   ]
  },
  {
   "cell_type": "markdown",
   "metadata": {},
   "source": [
    "## Question 8: Analyzing Ridge Coefficients (15 pts)\n",
    "In this question, you are first required to extract all the coefficients of the standing tackle, composure and marking features from the best model of question 7. After that, calculate the mean of the coefficients of the aforementioned features and analyze the results. Based on these observations, draw conclusions about the results in question 4. "
   ]
  },
  {
   "cell_type": "code",
   "execution_count": 32,
   "metadata": {},
   "outputs": [
    {
     "name": "stdout",
     "output_type": "stream",
     "text": [
      "[('standing_tackle', 0.033449904588563915), ('composure', 0.01534353355669744), ('marking', 0.014551499170463774)]\n",
      "\n",
      "\n",
      "Written answer: because marking has the lowest coefficient here on standardized variables, it appears it  has the highest degree of collinearity. As a result, removing it and all its interactions from the regression  reduced the error the most, as a more independent set of predictors was present. However, we see that standing  tackle has a higher coefficient than composure, despite the fact that removing standing tackle improves the CV  error more. This likely means that although standing tackle has a high degree of multicollinearity, it is a more  important predictor variable on its own, so other predictors would go to zero while it remains higher.\n"
     ]
    }
   ],
   "source": [
    "extract_indices = {}\n",
    "extract_coefs = {}\n",
    "quad_columns = PT.fit(Xtrain).get_feature_names(Xtrain.columns)\n",
    "quad_coefs = best_ridge_model.named_steps['ridge_regression'].coef_\n",
    "for col in cols:\n",
    "    if col!=None:\n",
    "        indices=[]\n",
    "        coefs = []\n",
    "        for i in range(len(quad_columns)):\n",
    "            if col in quad_columns[i]:\n",
    "                indices.append(i)\n",
    "                coefs.append(quad_coefs[i])\n",
    "        extract_indices[col] = indices\n",
    "        extract_coefs[col] = coefs\n",
    "mean_coefs = [(col, np.mean(extract_coefs[col])) for col in extract_coefs.keys()]\n",
    "print(mean_coefs)\n",
    "print(\"\\n\\nWritten answer: because marking has the lowest coefficient here on standardized variables, it appears it \\\n",
    " has the highest degree of collinearity while not providing much insight on its own. As a result, removing it and all its interactions from the regression \\\n",
    " reduced the error the most, as a more independent set of predictors was present. However, we see that standing \\\n",
    " tackle has a higher coefficient than composure, despite the fact that removing standing tackle improves the CV \\\n",
    " error more. This likely means that although standing tackle has a high degree of multicollinearity, it is a more \\\n",
    " important predictor variable on its own, so other predictors would go to zero while it remains higher.\")"
   ]
  },
  {
   "cell_type": "markdown",
   "metadata": {},
   "source": [
    "## Question 9: Lasso Regression (10 pts)\n",
    "Let us assume that you are building a linear regression model using only three features: standing tackle, marking, and composure to predict a player's overall rating. Based on the results of question 8, what do you think will be the features' coefficients while applying the lasso regression optimization? Answer in no more than 5 sentences."
   ]
  },
  {
   "cell_type": "markdown",
   "metadata": {},
   "source": [
    "Answer: It is likely that standing tackle coefficient would be non-zero, while the others would be 0. This is because while ridge regression looks to make all coefficients small to a certain degree, lasso regression looks to make as many coefficients as possible 0. Since standing tackle has the highest ridge coefficient of the three, that means it performs the best in spite of its multicollinearity. As a result, it is best to use only standing tackle and not the other two to reduce computational complexity."
   ]
  }
 ],
 "metadata": {
  "kernelspec": {
   "display_name": "Python 3",
   "language": "python",
   "name": "python3"
  },
  "language_info": {
   "codemirror_mode": {
    "name": "ipython",
    "version": 3
   },
   "file_extension": ".py",
   "mimetype": "text/x-python",
   "name": "python",
   "nbconvert_exporter": "python",
   "pygments_lexer": "ipython3",
   "version": "3.8.3"
  }
 },
 "nbformat": 4,
 "nbformat_minor": 4
}
