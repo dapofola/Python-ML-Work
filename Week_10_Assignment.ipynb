{
 "cells": [
  {
   "cell_type": "markdown",
   "metadata": {
    "id": "o1-5QShEYuNF"
   },
   "source": [
    "# Week 10 Assignment\n",
    "\n",
    "In this week's lecture lab we examined two dimensionality reduction techniques, Principal Component Analysis (PCA) and the Autoencoder. In this assignment we will explore additional functionalities of the Autoencoder and demonstrate its incredible versatility."
   ]
  },
  {
   "cell_type": "markdown",
   "metadata": {
    "id": "O45yP5FVZKyN"
   },
   "source": [
    "# Part A - Imports and Data Prep\n",
    "\n",
    "All required imports have been made for you."
   ]
  },
  {
   "cell_type": "code",
   "execution_count": 1,
   "metadata": {
    "id": "nTkPhrkjZULm"
   },
   "outputs": [],
   "source": [
    "# Import tensorflow - \n",
    "# You can use: \n",
    "# pip install tensorflow\n",
    "# to install these packages\n",
    "# make sure that you have seaborn version 0.11.0 installed \n",
    "import pandas as pd\n",
    "import numpy as np\n",
    "import matplotlib.pyplot as plt\n",
    "import seaborn as sns\n",
    "import torch\n",
    "import torch.nn as nn\n",
    "import torch.nn.functional as F\n",
    "from numpy.random import normal\n",
    "from tensorflow.keras.datasets.mnist import load_data\n",
    "import random\n",
    "random.seed(100)\n",
    "plt.style.use('seaborn')\n",
    "from torch.utils.data import TensorDataset"
   ]
  },
  {
   "cell_type": "markdown",
   "metadata": {
    "id": "9JTxQnb_Zgz1"
   },
   "source": [
    "# Part B - Noise Reduction\n",
    "\n",
    "The autoencoder serves many purposes. You have already seen its ability to perform dimensionality reduction and now you will see how it can perform noise reduction. \n",
    "\n",
    "# Q1 List an additional functionality or potential use of an autoencoder (that has not been mentioned yet) in the space provided below. (5 marks)"
   ]
  },
  {
   "cell_type": "markdown",
   "metadata": {
    "id": "YEtUYpOfaED-"
   },
   "source": [
    "Autoencoders can also be used to synthesize populations. From a small sample of the approximated distribution, a new synthesized population can be generated with similar properties to the original population."
   ]
  },
  {
   "cell_type": "markdown",
   "metadata": {
    "id": "gkX3eHNTaHmP"
   },
   "source": [
    "# Q2 (30 marks)\n",
    "To illustrate the ability of our autoencoder to reduce noise we will be using image data. Use the `load_data` function with the path attribute set to \"mnist.npz\". (Check documentation: https://www.tensorflow.org/api_docs/python/tf/keras/datasets/mnist/load_data) You only care about the image data so you need to extract the training images from the imported data and get rid of the labels. Ensure your pixel values are between 0 and 1 and save this to the variable X_2\n",
    "\n",
    "To simulate a noisy image, we will be adding white Gaussian noise to the data. To do this, you will need to use the normal function with a mean of 0 and a variance of 0.1. Cycle through the images in X_2, add noise, and save to a variable called X_2_noise.\n",
    "\n",
    "Display the first image in X_2 and the first image in X_2_noise to see the effect of the noise you added. You can use the `sns.imshow` function for this."
   ]
  },
  {
   "cell_type": "code",
   "execution_count": 2,
   "metadata": {},
   "outputs": [
    {
     "data": {
      "image/png": "[encoded data removed]",
      "text/plain": [
       "<Figure size 576x396 with 2 Axes>"
      ]
     },
     "metadata": {},
     "output_type": "display_data"
    }
   ],
   "source": [
    "data = load_data(path='mnist.npz')\n",
    "\n",
    "norm_coef = 1/255 # dividing all values by 255 such that the pixel values are between 0 and 1.\n",
    "# Putting all pixel values between 0 and 1\n",
    "X_2 = data[0][0] * norm_coef\n",
    "X_2.shape\n",
    "\n",
    "# Adding Gaussian noise with mean = 0 and variance 0.1\n",
    "Noise = np.random.normal(0,np.sqrt(0.1),(X_2.shape))\n",
    "X_2_noise = X_2 + Noise\n",
    "\n",
    "# Plotting the two images side by side\n",
    "fig, axs = plt.subplots(1,2)\n",
    "axs[0].imshow(X_2[0])\n",
    "axs[0].set(title=\"Original\")\n",
    "axs[1].imshow(X_2_noise[0])\n",
    "axs[1].set(title=\"Noisy\")\n",
    "plt.show()"
   ]
  },
  {
   "cell_type": "markdown",
   "metadata": {
    "id": "CmqppnNranRa"
   },
   "source": [
    "# Q3 Create an autoencoder to de-noise the image. You are responsible for selecting an appropriate design for the autoencoder. To speed up your training, for each iteration, train on a small subset of the data. (40 marks)\n",
    "\n",
    "In this setting, it is useful to train a slight variation on the autoencoder that takes a noisy image as input and has the original (non-noisy) image as its target. You can then use this model to de-noise future images. Note that you will have to take care of re-shaping the images into tensors as you use the `from_numpy` function. "
   ]
  },
  {
   "cell_type": "code",
   "execution_count": 3,
   "metadata": {},
   "outputs": [
    {
     "name": "stdout",
     "output_type": "stream",
     "text": [
      "1000 0.13435247540473938\n",
      "2000 0.1072535514831543\n",
      "3000 0.0928550511598587\n",
      "4000 0.08324026316404343\n",
      "5000 0.07571836560964584\n",
      "6000 0.07054516673088074\n",
      "7000 0.06790725886821747\n",
      "8000 0.0670008659362793\n",
      "9000 0.06589744985103607\n",
      "10000 0.06379389762878418\n"
     ]
    }
   ],
   "source": [
    "# Flatten images into vectors\n",
    "X_2_noise_flat = X_2_noise.reshape(X_2_noise.shape[0], X_2_noise.shape[1] * X_2_noise.shape[2]).astype(np.float32)\n",
    "X_2_flat = X_2.reshape(X_2_noise.shape[0], X_2_noise.shape[1] * X_2_noise.shape[2]).astype(np.float32)\n",
    "\n",
    "# Build Model. Reduce features to 500\n",
    "auto_enc = nn.Sequential(\n",
    "    nn.Linear(X_2_flat.shape[1], 500),\n",
    "    nn.Hardtanh(),\n",
    "    nn.Linear(500, X_2_flat.shape[1])\n",
    ")\n",
    "\n",
    "# define loss funciton. Using L1 loss because all values are between 0 and 1, so this is actually of higher magnitude than MSE.\n",
    "loss_fn = torch.nn.L1Loss()\n",
    "\n",
    "# define learning rate\n",
    "learning_rate=2.5e-1\n",
    "\n",
    "# Convert image encodings into tensors.\n",
    "X_2_noise_flat = torch.from_numpy(X_2_noise_flat)\n",
    "X_2_flat = torch.from_numpy(X_2_flat)\n",
    "\n",
    "for t in range(10000):\n",
    "    \n",
    "    # Getting a small random sample of data.\n",
    "    sample_rate = 0.01\n",
    "    sample_size = round(X_2_flat.shape[0] * sample_rate)\n",
    "    \n",
    "    # Randomly choosing indices of images to use.\n",
    "    indices = np.random.choice(X_2_flat.shape[0], size=sample_size, replace=False)\n",
    "    \n",
    "    # Getting the noisy and original versions of the random selected set of images.\n",
    "    X_2_sample = np.zeros((sample_size, X_2_flat.shape[1]))\n",
    "    X_2_noise_sample = np.zeros((sample_size, X_2_flat.shape[1]))\n",
    "    for i in range(len(indices)):\n",
    "        X_2_sample[i,:] = X_2_flat[indices[i]] \n",
    "        X_2_noise_sample[i,:] = X_2_noise_flat[indices[i]]\n",
    "    \n",
    "    # Converting these image encodings into tensors.\n",
    "    X_2_sample = X_2_sample.astype(np.float32)\n",
    "    X_2_sample = torch.from_numpy(X_2_sample)\n",
    "    X_2_noise_sample = X_2_noise_sample = X_2_noise_sample.astype(np.float32)\n",
    "    X_2_noise_sample = torch.from_numpy(X_2_noise_sample)\n",
    "    \n",
    "    # Getting predicted value, comparing to de-noisy image\n",
    "    y_pred = auto_enc(X_2_noise_sample)\n",
    "    loss = loss_fn(y_pred, X_2_sample)\n",
    "    if t % 1000 == 999:\n",
    "        print(t+1, loss.item())\n",
    "        \n",
    "    # Iterating on values    \n",
    "    auto_enc.zero_grad()\n",
    "    loss.backward()\n",
    "    with torch.no_grad():\n",
    "        for param in auto_enc.parameters():\n",
    "            param -= learning_rate * param.grad\n"
   ]
  },
  {
   "cell_type": "markdown",
   "metadata": {
    "id": "J4cQGqKKosit"
   },
   "source": [
    "# Q4 (25 marks)\n",
    "### Pass the noisy images through your trained denoiser. (Often in practice we would evaluate a de-noiser using new test data, but to keep things simple for this assignment we will re-use the noised training data.)\n",
    "\n",
    "### Plot histograms of the image noise (i.e. all of the pixel-by-pixel differences from the original image) before and after the use of the denoiser (You can use a subset of the data to reduce the time it takes to generate). \n",
    "\n",
    "### Display three images: an image of a noisy sample, an image of the sample after denoising, and an image the corresponding original (noise-free) sample.\n"
   ]
  },
  {
   "cell_type": "code",
   "execution_count": 7,
   "metadata": {},
   "outputs": [
    {
     "name": "stderr",
     "output_type": "stream",
     "text": [
      "/Library/Frameworks/Python.framework/Versions/3.8/lib/python3.8/site-packages/seaborn/distributions.py:2551: FutureWarning: `distplot` is a deprecated function and will be removed in a future version. Please adapt your code to use either `displot` (a figure-level function with similar flexibility) or `histplot` (an axes-level function for histograms).\n",
      "  warnings.warn(msg, FutureWarning)\n",
      "/Library/Frameworks/Python.framework/Versions/3.8/lib/python3.8/site-packages/seaborn/distributions.py:2551: FutureWarning: `distplot` is a deprecated function and will be removed in a future version. Please adapt your code to use either `displot` (a figure-level function with similar flexibility) or `histplot` (an axes-level function for histograms).\n",
      "  warnings.warn(msg, FutureWarning)\n"
     ]
    },
    {
     "data": {
      "text/plain": [
       "<matplotlib.legend.Legend at 0x7ff95fc06ac0>"
      ]
     },
     "execution_count": 7,
     "metadata": {},
     "output_type": "execute_result"
    },
    {
     "data": {
      "image/png": "[encoded data removed]",
      "text/plain": [
       "<Figure size 576x396 with 1 Axes>"
      ]
     },
     "metadata": {},
     "output_type": "display_data"
    }
   ],
   "source": [
    "# Pass the data through\n",
    "y_pred = auto_enc(X_2_noise_flat)\n",
    "\n",
    "\n",
    "\n",
    "\n",
    "\n",
    "\n",
    "# Plot the histograms\n",
    "pre_noise = X_2_flat - X_2_noise_flat\n",
    "post_noise = X_2_flat - y_pred.detach().numpy()\n",
    "\n",
    "    \n",
    "# Plotting histograms\n",
    "\n",
    "sns.distplot(pre_noise, label=\"Noisy\")\n",
    "sns.distplot(post_noise, label=\"After de-noising\")\n",
    "plt.xlabel(\"Noise Error\")\n",
    "plt.title(\"Error Distribution\")\n",
    "plt.legend()\n",
    "\n",
    "\n",
    "\n",
    "\n"
   ]
  },
  {
   "cell_type": "code",
   "execution_count": 5,
   "metadata": {},
   "outputs": [
    {
     "data": {
      "image/png": "[encoded data removed]",
      "text/plain": [
       "<Figure size 576x396 with 3 Axes>"
      ]
     },
     "metadata": {},
     "output_type": "display_data"
    }
   ],
   "source": [
    "# Get a random image to show\n",
    "index = np.random.choice(X_2_flat.shape[0], size=1)[0]\n",
    "\n",
    "# De-flattening the random image selected\n",
    "original = X_2_flat.detach().numpy().reshape(X_2.shape)[index,:,:]\n",
    "noisy = X_2_noise_flat.detach().numpy().reshape(X_2.shape)[index,:,:]\n",
    "denoised = y_pred.detach().numpy().reshape(X_2.shape)[index,:,:]\n",
    "\n",
    "# Showing images.\n",
    "fig, axs = plt.subplots(1,3)\n",
    "axs[0].imshow(original)\n",
    "axs[0].title.set_text(\"Original\")\n",
    "axs[1].imshow(noisy)\n",
    "axs[1].title.set_text(\"Noisy\")\n",
    "axs[2].imshow(denoised)\n",
    "axs[2].title.set_text(\"After de-noising\")\n",
    "\n",
    "plt.show()\n",
    "# Display the three images"
   ]
  },
  {
   "cell_type": "markdown",
   "metadata": {
    "id": "xogWdUMMv7GY"
   },
   "source": [
    "# Congratulations you have completed this week's assignment. Please remember to restart and run all cells before submitting."
   ]
  },
  {
   "cell_type": "code",
   "execution_count": null,
   "metadata": {},
   "outputs": [],
   "source": []
  }
 ],
 "metadata": {
  "colab": {
   "name": "Week 10 Assignment Solved",
   "provenance": []
  },
  "kernelspec": {
   "display_name": "Python 3",
   "language": "python",
   "name": "python3"
  },
  "language_info": {
   "codemirror_mode": {
    "name": "ipython",
    "version": 3
   },
   "file_extension": ".py",
   "mimetype": "text/x-python",
   "name": "python",
   "nbconvert_exporter": "python",
   "pygments_lexer": "ipython3",
   "version": "3.8.3"
  }
 },
 "nbformat": 4,
 "nbformat_minor": 4
}
